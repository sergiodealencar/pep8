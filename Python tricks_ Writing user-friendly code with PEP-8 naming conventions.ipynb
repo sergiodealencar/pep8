{
 "cells": [
  {
   "cell_type": "markdown",
   "metadata": {},
   "source": [
    "# Write user-friendly code with PEP-8 naming conventions"
   ]
  },
  {
   "cell_type": "markdown",
   "metadata": {
    "slideshow": {
     "slide_type": "slide"
    }
   },
   "source": [
    "## What is PEP 8?\n",
    "\n",
    "- __PEP__: A Python Enhancement Proposal \n",
    "- __PEP 8__: A set of style guidelines for Python\n",
    "  - Widely used\n",
    "  - <https://www.python.org/dev/peps/pep-0008/>"
   ]
  },
  {
   "cell_type": "markdown",
   "metadata": {
    "slideshow": {
     "slide_type": "slide"
    }
   },
   "source": [
    "## Why follow PEP 8?\n",
    "\n",
    "- Readable code\n",
    "  - Mostly for yourself (and other developers)\n",
    "  - Not discussed here\n",
    "- User-friendly code\n",
    "  - Following naming conventions is a way to document your code\n",
    "  - Mostly useful for users (which can be developers too)\n",
    "  - Discussed here!"
   ]
  },
  {
   "cell_type": "markdown",
   "metadata": {},
   "source": [
    "![](tango.jpg)\n",
    "\n",
    "## The most important naming conventions"
   ]
  },
  {
   "cell_type": "markdown",
   "metadata": {},
   "source": [
    "### `regular_variables`\n",
    "\n",
    "- Variable names should be __lowercase, where necessary separating words by underscores__"
   ]
  },
  {
   "cell_type": "code",
   "execution_count": 1,
   "metadata": {
    "collapsed": true
   },
   "outputs": [],
   "source": [
    "a_tango_artist = 'Astor Piazzolla'"
   ]
  },
  {
   "cell_type": "markdown",
   "metadata": {},
   "source": [
    "### `CONSTANTS`\n",
    "\n",
    "- In Python, all variables can be modified\n",
    "- Therefore, real constants don't exist\n",
    "- But to indicate that a variable should be treated as if it were a constant, names should be __uppercase, where necessary separating words by underscores__"
   ]
  },
  {
   "cell_type": "code",
   "execution_count": 2,
   "metadata": {
    "collapsed": true,
    "scrolled": true
   },
   "outputs": [],
   "source": [
    "TANGO_ARTISTS = [\n",
    "    'Astor Piazzolla',\n",
    "    'Hugo Díaz',\n",
    "    'Aníbal Troilo'\n",
    "]"
   ]
  },
  {
   "cell_type": "markdown",
   "metadata": {},
   "source": [
    "### `function_names()`\n",
    "\n",
    "- Names of functions and class methods should be __lowercase, where necessary separating words by underscores__"
   ]
  },
  {
   "cell_type": "code",
   "execution_count": 5,
   "metadata": {
    "collapsed": false
   },
   "outputs": [
    {
     "name": "stdout",
     "output_type": "stream",
     "text": [
      "Hugo Díaz\n"
     ]
    }
   ],
   "source": [
    "import random\n",
    "\n",
    "\n",
    "def random_tango_artist():\n",
    "    \n",
    "    return random.choice(TANGO_ARTISTS)\n",
    "\n",
    "\n",
    "print(random_tango_artist())"
   ]
  },
  {
   "cell_type": "markdown",
   "metadata": {},
   "source": [
    "### `ClassNames`\n",
    "\n",
    "- Class names should __capitalize the first letter of each word__"
   ]
  },
  {
   "cell_type": "code",
   "execution_count": 6,
   "metadata": {
    "collapsed": false
   },
   "outputs": [
    {
     "name": "stdout",
     "output_type": "stream",
     "text": [
      "Aníbal Troilo\n"
     ]
    }
   ],
   "source": [
    "class TangoArtist:\n",
    "    \n",
    "    def __init__(self, name):\n",
    "        \n",
    "        self.name = name\n",
    "        \n",
    "    def __str__(self):\n",
    "        \n",
    "        return self.name\n",
    "    \n",
    "    \n",
    "anibal_troilo = TangoArtist(name='Aníbal Troilo')\n",
    "print(anibal_troilo)"
   ]
  },
  {
   "cell_type": "markdown",
   "metadata": {},
   "source": [
    "### `FactoryFunctionNames()`\n",
    "\n",
    "- Factory functions return objects\n",
    "- Therefore, to users of your code, factory functions act like class definitions\n",
    "- To reflect this, factory-function names should also __capitalize the first letter of each word__"
   ]
  },
  {
   "cell_type": "code",
   "execution_count": 7,
   "metadata": {
    "collapsed": false
   },
   "outputs": [
    {
     "name": "stdout",
     "output_type": "stream",
     "text": [
      "Astor Piazzolla\n"
     ]
    }
   ],
   "source": [
    "def AstorPiazzolla():\n",
    "    \n",
    "    return TangoArtist(name='Astor Piazzolla')\n",
    "\n",
    "\n",
    "astor_piazzolla = AstorPiazzolla()\n",
    "print(astor_piazzolla)"
   ]
  },
  {
   "cell_type": "markdown",
   "metadata": {},
   "source": [
    "### `_non_public_properties`\n",
    "\n",
    "- In Python, properties can be accessed from anywhere\n",
    "- Therefore, private class properties don't exist\n",
    "- But to indicate that a property should be treated as if it were private, names should be __prefixed with an underscore__"
   ]
  },
  {
   "cell_type": "code",
   "execution_count": 8,
   "metadata": {
    "collapsed": false
   },
   "outputs": [
    {
     "name": "stdout",
     "output_type": "stream",
     "text": [
      "Harmonica\n"
     ]
    }
   ],
   "source": [
    "class HugoDiaz(TangoArtist):\n",
    "    \n",
    "    def __init__(self):\n",
    "        \n",
    "        TangoArtist.__init__(self, name='Hugo Díaz')\n",
    "        self._instrument = 'Harmonica'\n",
    "        \n",
    "    @property\n",
    "    def instrument(self):\n",
    "        \n",
    "        return self._instrument\n",
    "    \n",
    "    \n",
    "hugo_diaz = HugoDiaz()\n",
    "print(hugo_diaz.instrument)"
   ]
  },
  {
   "cell_type": "markdown",
   "metadata": {},
   "source": [
    "### `conflicting_names_`\n",
    "\n",
    "- If a name is already taken, __suffix an underscore__"
   ]
  },
  {
   "cell_type": "code",
   "execution_count": 10,
   "metadata": {
    "collapsed": false
   },
   "outputs": [],
   "source": [
    "in_ = 'Tango'"
   ]
  }
 ],
 "metadata": {
  "kernelspec": {
   "display_name": "Python 3",
   "language": "python",
   "name": "python3"
  },
  "language_info": {
   "codemirror_mode": {
    "name": "ipython",
    "version": 3
   },
   "file_extension": ".py",
   "mimetype": "text/x-python",
   "name": "python",
   "nbconvert_exporter": "python",
   "pygments_lexer": "ipython3",
   "version": "3.6.3"
  }
 },
 "nbformat": 4,
 "nbformat_minor": 2
}
